{
 "cells": [
  {
   "cell_type": "markdown",
   "id": "346b9544",
   "metadata": {},
   "source": [
    "We use the data used in the analysis reported on in (Jego et al, 2022)"
   ]
  },
  {
   "cell_type": "code",
   "execution_count": 20,
   "id": "cb8f85c3",
   "metadata": {},
   "outputs": [],
   "source": [
    "import APEX as ap\n",
    "import pyccl as ccl\n",
    "import numpy as np\n",
    "import sacc as sc\n",
    "\n",
    "cosmo = ccl.Cosmology(\n",
    "    Omega_c=0.261,\n",
    "    Omega_b=0.049,\n",
    "    h=0.677,\n",
    "    n_s=0.9665,\n",
    "    sigma8=0.8102,\n",
    "    #transfer_function=\"bbks\",\n",
    "    #matter_power_spectrum=\"halofit\")\n",
    ")\n",
    "\n",
    "import warnings\n",
    "\n",
    "# The warning message to ignore\n",
    "warning_message = \"The FITS format without the 'sacc_ordering' column is deprecated.\"\n",
    "\n",
    "# Apply the filter to ignore this specific UserWarning\n",
    "warnings.filterwarnings(\"ignore\", message=warning_message, category=UserWarning)\n",
    "\n",
    "# ... the rest of your code that uses the sacc library"
   ]
  },
  {
   "cell_type": "markdown",
   "id": "47b6ee07",
   "metadata": {},
   "source": [
    "One should check the layout of the sacc file first:"
   ]
  },
  {
   "cell_type": "code",
   "execution_count": 21,
   "id": "779f75c3",
   "metadata": {},
   "outputs": [
    {
     "name": "stdout",
     "output_type": "stream",
     "text": [
      "Tracer combinations: [(np.str_('CIBLenz__0'), np.str_('eBOSSQSO__0')), (np.str_('CIBLenz__0'), np.str_('eBOSSQSO__1')), (np.str_('CIBLenz__1'), np.str_('eBOSSQSO__0')), (np.str_('CIBLenz__1'), np.str_('eBOSSQSO__1')), (np.str_('CIBLenz__2'), np.str_('eBOSSQSO__0')), (np.str_('CIBLenz__2'), np.str_('eBOSSQSO__1')), (np.str_('DELS__0'), np.str_('CIBLenz__0')), (np.str_('DELS__0'), np.str_('CIBLenz__1')), (np.str_('DELS__0'), np.str_('CIBLenz__2')), (np.str_('DELS__0'), np.str_('DELS__0')), (np.str_('DELS__1'), np.str_('CIBLenz__0')), (np.str_('DELS__1'), np.str_('CIBLenz__1')), (np.str_('DELS__1'), np.str_('CIBLenz__2')), (np.str_('DELS__1'), np.str_('DELS__1')), (np.str_('DELS__2'), np.str_('CIBLenz__0')), (np.str_('DELS__2'), np.str_('CIBLenz__1')), (np.str_('DELS__2'), np.str_('CIBLenz__2')), (np.str_('DELS__2'), np.str_('DELS__2')), (np.str_('DELS__3'), np.str_('CIBLenz__0')), (np.str_('DELS__3'), np.str_('CIBLenz__1')), (np.str_('DELS__3'), np.str_('CIBLenz__2')), (np.str_('DELS__3'), np.str_('DELS__3')), (np.str_('eBOSSQSO__0'), np.str_('eBOSSQSO__0')), (np.str_('eBOSSQSO__1'), np.str_('eBOSSQSO__1'))]\n"
     ]
    }
   ],
   "source": [
    "sacc_data = sc.Sacc.load_fits('cls_cov_minimal_newcov.fits')\n",
    "\n",
    "#print all tracers\n",
    "print(\"Tracer combinations:\", sacc_data.get_tracer_combinations())"
   ]
  },
  {
   "cell_type": "code",
   "execution_count": 22,
   "id": "cde0d566",
   "metadata": {},
   "outputs": [],
   "source": [
    "gd_file = 'cls_cov_minimal_newcov.fits'\n",
    "\n",
    "cib_snu_file = 'filtered_snu_planck.fits'"
   ]
  },
  {
   "cell_type": "code",
   "execution_count": 23,
   "id": "4fa6361c",
   "metadata": {},
   "outputs": [],
   "source": [
    "gdwsp = ap.GalaxyDensityTracerWorkspace(\n",
    "    sacc_file=gd_file,\n",
    "    tracer_name_root=\"DELS__\",\n",
    "    max_index=3,\n",
    "    cosmology=cosmo\n",
    ")\n",
    "\n",
    "cibwsp = ap.CIBIntensityTracerWorkspace(\n",
    "    flux_fits_file=cib_snu_file,\n",
    "    cosmology=cosmo,\n",
    "    tracer_name_root=\"CIBLenz__\",\n",
    "    single_index=2\n",
    ")\n",
    "\n",
    "tracer_combos = [('DELS__0', 'DELS__0'),\n",
    "                 ('DELS__1', 'DELS__1'),\n",
    "                 ('DELS__2', 'DELS__2'),\n",
    "                 ('DELS__3', 'DELS__3'),\n",
    "                 ('DELS__0', 'CIBLenz__2'),\n",
    "                 ('DELS__1', 'CIBLenz__2'),\n",
    "                 ('DELS__2', 'CIBLenz__2'),\n",
    "                 ('DELS__3', 'CIBLenz__2'),\n",
    "                ]\n",
    "\n",
    "s = ap.SaccWorkspace(gd_file, tracer_combinations=tracer_combos)\n"
   ]
  },
  {
   "cell_type": "code",
   "execution_count": 24,
   "id": "f77848eb",
   "metadata": {},
   "outputs": [],
   "source": [
    "mmodel = ap.MaleubreModel(\n",
    "    Tracer1Workspace=gdwsp,\n",
    "    Tracer2Workspace=cibwsp,\n",
    "    tracer_combos=tracer_combos,\n",
    "    sacc_workspace=s,\n",
    "    cosmology=cosmo,\n",
    "    logged_N=True,\n",
    "    k_max = 0.3\n",
    ")"
   ]
  },
  {
   "cell_type": "code",
   "execution_count": null,
   "id": "45b49cdf",
   "metadata": {},
   "outputs": [
    {
     "name": "stdout",
     "output_type": "stream",
     "text": [
      "[<bound method maleubremodel.log_likelihood_function of <apex.maleubremodel object at 0x7f1bdf033ed0>>] Initialized external likelihood.\n",
      "[minimize] *WARNING* This run has been SEEDED with seed 42\n",
      "[minimize] Initializing\n",
      "[minimize] Run 1/2 will start from random initial point:\n",
      "[minimize] {'b_g0': np.float64(0.8), 'b_g1': np.float64(0.9), 'b_g2': np.float64(1.2), 'b_g3': np.float64(1.5), 'N_gg0': np.float64(-8.0), 'N_gg1': np.float64(-8.0), 'N_gg2': np.float64(-8.0), 'N_gg3': np.float64(-8.0), 'A_gg0': np.float64(7.0), 'A_gg1': np.float64(7.0), 'A_gg2': np.float64(7.0), 'A_gg3': np.float64(7.0), 'N_gnu0': np.float64(-12.0), 'N_gnu1': np.float64(-12.0), 'N_gnu2': np.float64(-12.0), 'N_gnu3': np.float64(-12.0), 'A_gnu0': np.float64(7.0), 'A_gnu1': np.float64(7.0), 'A_gnu2': np.float64(7.0), 'A_gnu3': np.float64(7.0), 'bpsfr0': np.float64(0.059), 'bpsfr1': np.float64(0.11), 'bpsfr2': np.float64(0.15), 'bpsfr3': np.float64(0.18)}\n",
      "[minimize] Run 2/2 will start from random initial point:\n",
      "[minimize] {'b_g0': np.float64(0.8), 'b_g1': np.float64(0.9), 'b_g2': np.float64(1.2), 'b_g3': np.float64(1.5), 'N_gg0': np.float64(-8.0), 'N_gg1': np.float64(-8.0), 'N_gg2': np.float64(-8.0), 'N_gg3': np.float64(-8.0), 'A_gg0': np.float64(7.0), 'A_gg1': np.float64(7.0), 'A_gg2': np.float64(7.0), 'A_gg3': np.float64(7.0), 'N_gnu0': np.float64(-12.0), 'N_gnu1': np.float64(-12.0), 'N_gnu2': np.float64(-12.0), 'N_gnu3': np.float64(-12.0), 'A_gnu0': np.float64(7.0), 'A_gnu1': np.float64(7.0), 'A_gnu2': np.float64(7.0), 'A_gnu3': np.float64(7.0), 'bpsfr0': np.float64(0.059), 'bpsfr1': np.float64(0.11), 'bpsfr2': np.float64(0.15), 'bpsfr3': np.float64(0.18)}\n",
      "[minimize] Starting run 1/2\n",
      "[minimize] Run 1/2 converged.\n",
      "[minimize] Starting run 2/2\n",
      "[minimize] Run 2/2 converged.\n",
      "[minimize] Finished successfully!\n",
      "[minimize] -log(posterior) minimized to 109.366\n",
      "[minimize] Parameter values at minimum:\n",
      "   weight  minuslogpost      b_g0      b_g1      b_g2      b_g3     N_gg0      N_gg1     N_gg2     N_gg3      A_gg0      A_gg1      A_gg2      A_gg3    N_gnu0    N_gnu1     N_gnu2  N_gnu3    A_gnu0    A_gnu1    A_gnu2    A_gnu3    bpsfr0    bpsfr1    bpsfr2    bpsfr3  minuslogprior  minuslogprior__0       chi2  chi2__<bound method MaleubreModel.log_likelihood_function of <APEX.MaleubreModel object at 0x7f1bdf033ed0>>\n",
      "0     1.0    109.366474  1.157349  1.356426  1.304828  1.727223 -8.473147 -11.998453 -9.281538 -7.900928  13.173976  22.081414  19.512082  33.346164 -8.979291 -9.101785 -14.458596   -15.0  0.133122  0.269631  0.603964  1.151559  0.018323  0.030363  0.043235  0.052998      64.033123         64.033123  90.666702                                                                                                    90.666702\n",
      "[minimize] Full set of minima:\n",
      "{'0': (np.float64(109.36647396827706), True), '1': (np.float64(109.36647396827706), True)}\n"
     ]
    }
   ],
   "source": [
    "mcmc = ap.MCMCWorkspace(\n",
    "    model=mmodel,\n",
    "    likelihood_function='lightweight_log_likelihood_function',\n",
    "    sacc_file=gd_file\n",
    "\n",
    ")\n",
    "\n",
    "params = ['b_g0', 'b_g1', 'b_g2', 'b_g3',\n",
    "          'N_gg0', 'N_gg1', 'N_gg2', 'N_gg3',\n",
    "          'A_gg0', 'A_gg1', 'A_gg2', 'A_gg3',\n",
    "          'N_gnu0', 'N_gnu1', 'N_gnu2', 'N_gnu3',\n",
    "          'A_gnu0', 'A_gnu1', 'A_gnu2', 'A_gnu3',\n",
    "          'bpsfr0', 'bpsfr1', 'bpsfr2', 'bpsfr3']\n",
    "mcmc.set_param_priors(\n",
    "    params=params,\n",
    "    priors=[\n",
    "        (0, 4), (0, 4), (0, 4), (0, 4),\n",
    "        (-12, -4), (-12, -4), (-12, -4), (-12, -4),\n",
    "        (-100, 100), (-100, 100), (-100, 100), (-100, 100),\n",
    "        (-15, -8), (-15, -8), (-15, -8), (-15, -8),\n",
    "        (-100, 100), (-100, 100), (-100, 100), (-100, 100),\n",
    "        (0, 1), (0, 1), (0, 1), (0, 1),\n",
    "    ]\n",
    ")\n",
    "\n",
    "mcmc.set_param_references(\n",
    "    params=params,\n",
    "    references=[\n",
    "        0.8, 0.9, 1.2, 1.5,\n",
    "        -8, -8, -8, -8,\n",
    "        7, 7, 7, 7,\n",
    "        -12, -12, -12, -12,\n",
    "        7, 7, 7, 7,\n",
    "        0.059, 0.11, 0.15, 0.18,\n",
    "    ]\n",
    ")\n",
    "\n",
    "mcmc.set_param_proposals(\n",
    "    params=params,\n",
    "    proposals=[\n",
    "        0.1, 0.1, 0.1, 0.1,\n",
    "        0.1, 0.1, 0.1, 0.1,\n",
    "        1, 1, 1, 1,\n",
    "        0.1, 0.1, 0.1, 0.1,\n",
    "        1, 1, 1, 1,\n",
    "        0.003, 0.003, 0.003, 0.003,\n",
    "    ]\n",
    ")\n",
    "\n",
    "mcmc.set_grouped_params({\n",
    "    'b_gs': ['b_g0', 'b_g1', 'b_g2', 'b_g3'],\n",
    "    'N_ggs': ['N_gg0', 'N_gg1', 'N_gg2', 'N_gg3'],\n",
    "    'A_ggs': ['A_gg0', 'A_gg1', 'A_gg2', 'A_gg3'],\n",
    "    'N_gnus': ['N_gnu0', 'N_gnu1', 'N_gnu2', 'N_gnu3'],\n",
    "    'A_gnus': ['A_gnu0', 'A_gnu1', 'A_gnu2', 'A_gnu3'],    \n",
    "    'bpsfrs': ['bpsfr0', 'bpsfr1', 'bpsfr2', 'bpsfr3']\n",
    "})\n",
    "\n",
    "mcmc.MCMC_config(params, sampler_info={'minimize': {'seed':42}})\n",
    "\n",
    "sampler = mcmc.minimize_run()\n"
   ]
  }
 ],
 "metadata": {
  "kernelspec": {
   "display_name": "Cosmo1",
   "language": "python",
   "name": "python3"
  },
  "language_info": {
   "codemirror_mode": {
    "name": "ipython",
    "version": 3
   },
   "file_extension": ".py",
   "mimetype": "text/x-python",
   "name": "python",
   "nbconvert_exporter": "python",
   "pygments_lexer": "ipython3",
   "version": "3.13.5"
  }
 },
 "nbformat": 4,
 "nbformat_minor": 5
}
