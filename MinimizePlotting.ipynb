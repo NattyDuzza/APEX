{
 "cells": [
  {
   "cell_type": "code",
   "execution_count": 1,
   "id": "c83e313c",
   "metadata": {},
   "outputs": [],
   "source": [
    "import APEX as ap\n",
    "import pyccl as ccl\n",
    "import numpy as np\n",
    "\n",
    "cosmo = ccl.Cosmology(\n",
    "    Omega_c=0.261,\n",
    "    Omega_b=0.049,\n",
    "    h=0.677,\n",
    "    n_s=0.9665,\n",
    "    sigma8=0.8102,\n",
    "    transfer_function=\"bbks\",\n",
    "    matter_power_spectrum=\"halofit\")\n"
   ]
  },
  {
   "cell_type": "code",
   "execution_count": 7,
   "id": "8d92574f",
   "metadata": {},
   "outputs": [],
   "source": [
    "chosen_map = '../CIB-Project/NEW-hsc_x_cib(857).fits'\n",
    "chosen_tracer = 'hsc_zbin'"
   ]
  },
  {
   "cell_type": "code",
   "execution_count": 8,
   "id": "e791aab9",
   "metadata": {},
   "outputs": [
    {
     "name": "stdout",
     "output_type": "stream",
     "text": [
      "{'CIBLenz__3': 'cib_857GHz'}\n"
     ]
    }
   ],
   "source": [
    "gdwsp = ap.GalaxyDensityTracerWorkspace(\n",
    "    sacc_file=chosen_map,\n",
    "    tracer_name_root=chosen_tracer,\n",
    "    max_index=3,\n",
    "    cosmology=cosmo\n",
    ")\n",
    "\n",
    "cibwsp = ap.CIBIntensityTracerWorkspace(\n",
    "    flux_fits_file=\"../CIB-Project/filtered_snu_planck.fits\",\n",
    "    cosmology=cosmo,\n",
    "    tracer_name_root=\"CIBLenz__\",\n",
    "    single_index=3\n",
    ")\n",
    "\n",
    "tracer_combos = [(f'{chosen_tracer}0', f'{chosen_tracer}0'),\n",
    "                 (f'{chosen_tracer}1', f'{chosen_tracer}1'),\n",
    "                 (f'{chosen_tracer}2', f'{chosen_tracer}2'),\n",
    "                 (f'{chosen_tracer}3', f'{chosen_tracer}3'),\n",
    "\n",
    "                 (f'{chosen_tracer}0', 'CIBLenz__3'),\n",
    "               \n",
    "                 (f'{chosen_tracer}1', 'CIBLenz__3'),\n",
    "                 \n",
    "                 (f'{chosen_tracer}2', 'CIBLenz__3'),\n",
    "              \n",
    "                 (f'{chosen_tracer}3', 'CIBLenz__3')\n",
    "                 ]\n",
    "\n",
    "s = ap.SaccWorkspace(chosen_map, tracer_combinations=tracer_combos)\n",
    "\n",
    "s.define_alias('cib_857GHz', 'CIBLenz__3')\n",
    "\n",
    "mmodel = ap.MaleubreModel(\n",
    "    Tracer1Workspace=gdwsp,\n",
    "    Tracer2Workspace=cibwsp,\n",
    "    tracer_combos=tracer_combos,\n",
    "    sacc_workspace=s,\n",
    "    cosmology=cosmo,\n",
    "    logged_N=True,\n",
    "    min_ell=100,\n",
    "    max_ell=1000\n",
    ")\n",
    "\n"
   ]
  },
  {
   "cell_type": "code",
   "execution_count": 10,
   "id": "ad0c5300",
   "metadata": {},
   "outputs": [
    {
     "name": "stdout",
     "output_type": "stream",
     "text": [
      "[<bound method maleubremodel.log_likelihood_function of <apex.maleubremodel object at 0x7f1efbcedd10>>] Initialized external likelihood.\n",
      "[minimize] *WARNING* This run has been SEEDED with seed 42\n",
      "[minimize] Initializing\n",
      "[minimize] Run 1/2 will start from random initial point:\n",
      "[minimize] {'b_g0': np.float64(1.1), 'b_g1': np.float64(1.1), 'b_g2': np.float64(1.1), 'b_g3': np.float64(1.1), 'N_gg0': np.float64(-8.769551078621726), 'N_gg1': np.float64(-8.769551078621726), 'N_gg2': np.float64(-8.769551078621726), 'N_gg3': np.float64(-8.769551078621726), 'A_gg0': np.float64(7.0), 'A_gg1': np.float64(7.0), 'A_gg2': np.float64(7.0), 'A_gg3': np.float64(7.0), 'N_gnu0': np.float64(-8.769551078621726), 'N_gnu1': np.float64(-8.769551078621726), 'N_gnu2': np.float64(-8.769551078621726), 'N_gnu3': np.float64(-8.769551078621726), 'A_gnu0': np.float64(7.0), 'A_gnu1': np.float64(7.0), 'A_gnu2': np.float64(7.0), 'A_gnu3': np.float64(7.0), 'bpsfr0': np.float64(0.5), 'bpsfr1': np.float64(0.5), 'bpsfr2': np.float64(0.5), 'bpsfr3': np.float64(0.5)}\n",
      "[minimize] Run 2/2 will start from random initial point:\n",
      "[minimize] {'b_g0': np.float64(1.1), 'b_g1': np.float64(1.1), 'b_g2': np.float64(1.1), 'b_g3': np.float64(1.1), 'N_gg0': np.float64(-8.769551078621726), 'N_gg1': np.float64(-8.769551078621726), 'N_gg2': np.float64(-8.769551078621726), 'N_gg3': np.float64(-8.769551078621726), 'A_gg0': np.float64(7.0), 'A_gg1': np.float64(7.0), 'A_gg2': np.float64(7.0), 'A_gg3': np.float64(7.0), 'N_gnu0': np.float64(-8.769551078621726), 'N_gnu1': np.float64(-8.769551078621726), 'N_gnu2': np.float64(-8.769551078621726), 'N_gnu3': np.float64(-8.769551078621726), 'A_gnu0': np.float64(7.0), 'A_gnu1': np.float64(7.0), 'A_gnu2': np.float64(7.0), 'A_gnu3': np.float64(7.0), 'bpsfr0': np.float64(0.5), 'bpsfr1': np.float64(0.5), 'bpsfr2': np.float64(0.5), 'bpsfr3': np.float64(0.5)}\n",
      "[minimize] Starting run 1/2\n",
      "[minimize] Run 1/2 converged.\n",
      "[minimize] Starting run 2/2\n",
      "[minimize] Run 2/2 converged.\n",
      "[minimize] Finished successfully!\n",
      "[minimize] -log(posterior) minimized to 162.709\n",
      "[minimize] Parameter values at minimum:\n",
      "   weight  minuslogpost      b_g0      b_g1     b_g2      b_g3    N_gg0     N_gg1      N_gg2      N_gg3     A_gg0      A_gg1      A_gg2      A_gg3    N_gnu0    N_gnu1    N_gnu2  N_gnu3    A_gnu0   A_gnu1    A_gnu2    A_gnu3    bpsfr0    bpsfr1    bpsfr2    bpsfr3  minuslogprior  minuslogprior__0        chi2  chi2__<bound method MaleubreModel.log_likelihood_function of <APEX.MaleubreModel object at 0x7f1efbcedd10>>\n",
      "0     1.0     162.70878  1.026474  1.104951  1.29494  1.661452 -6.84985 -3.740814 -10.887948 -10.108594  6.667355  10.031404  13.381839  28.142617 -2.612602 -9.204992 -9.261518   -15.0  0.054902  0.66334  2.125307  3.001524  0.023057  0.061194  0.139908  0.269063      77.005654         77.005654  171.406252                                                                                                   171.406252\n",
      "[minimize] Full set of minima:\n",
      "{'0': (np.float64(162.70878027891794), True), '1': (np.float64(162.70878027891794), True)}\n"
     ]
    }
   ],
   "source": [
    "mcmc = ap.MCMCWorkspace(\n",
    "    sacc_file='/home/nathand/Documents/AstroCode/CIB-Project/NEW-hsc_red_x_cib(857).fits',\n",
    "    model=mmodel,\n",
    "    likelihood_function='log_likelihood_function',\n",
    "\n",
    ")\n",
    "\n",
    "params = ['b_g0', 'b_g1', 'b_g2', 'b_g3',\n",
    "          'N_gg0', 'N_gg1', 'N_gg2', 'N_gg3',\n",
    "          'A_gg0', 'A_gg1', 'A_gg2', 'A_gg3',\n",
    "          'N_gnu0', 'N_gnu1', 'N_gnu2', 'N_gnu3',\n",
    "          'A_gnu0', 'A_gnu1', 'A_gnu2', 'A_gnu3',\n",
    "          'bpsfr0', 'bpsfr1', 'bpsfr2', 'bpsfr3']\n",
    "\n",
    "mcmc.set_param_priors(\n",
    "    params=params,\n",
    "    priors=[\n",
    "        (0.75, 5), (0.75, 5), (0.75, 5), (0.75, 5), \n",
    "        (np.log10(1e-15), np.log10(1)), (np.log10(1e-15), np.log10(1)), (np.log10(1e-15), np.log10(1)), (np.log10(1e-15), np.log10(1)), \n",
    "        (-100, 100), (-100, 100), (-100, 100), (-100, 100),\n",
    "        (np.log10(1e-15), np.log10(1)), (np.log10(1e-15), np.log10(1)), (np.log10(1e-15), np.log10(1)), (np.log10(1e-15), np.log10(1)), \n",
    "        (-100, 100), (-100, 100), (-100, 100), (-100, 100),\n",
    "        (-3, 3), (-3, 3), (-3, 3), (-3, 3),\n",
    "    ]\n",
    ")\n",
    "\n",
    "mcmc.set_param_references(\n",
    "    params=params,\n",
    "    references=[\n",
    "        1.1, 1.1, 1.1, 1.1, \n",
    "        np.log10(1.7e-9), np.log10(1.7e-9), np.log10(1.7e-9), np.log10(1.7e-9), \n",
    "        7, 7, 7, 7,\n",
    "        np.log10(1.7e-9), np.log10(1.7e-9), np.log10(1.7e-9), np.log10(1.7e-9), \n",
    "        7, 7, 7, 7,\n",
    "        0.5, 0.5, 0.5, 0.5,\n",
    "    ]\n",
    ")\n",
    "\n",
    "mcmc.set_param_proposals(\n",
    "    params=params,\n",
    "    proposals=[\n",
    "        0.1, 0.1, 0.1, 0.1, \n",
    "        np.log10(1e-9), np.log10(1e-9), np.log10(1e-9), np.log10(1e-9),\n",
    "        1, 1, 1, 1,\n",
    "        np.log10(1e-9), np.log10(1e-9), np.log10(1e-9), np.log10(1e-9),\n",
    "        1, 1, 1, 1,\n",
    "        0.1, 0.1, 0.1, 0.1,\n",
    "    ]\n",
    ")\n",
    "\n",
    "mcmc.set_grouped_params({\n",
    "    'b_gs': ['b_g0', 'b_g1', 'b_g2', 'b_g3'],\n",
    "    'N_ggs': ['N_gg0', 'N_gg1', 'N_gg2', 'N_gg3'],\n",
    "    'A_ggs': ['A_gg0', 'A_gg1', 'A_gg2', 'A_gg3'],\n",
    "    'N_gnus': ['N_gnu0', 'N_gnu1', 'N_gnu2', 'N_gnu3'],\n",
    "    'A_gnus': ['A_gnu0', 'A_gnu1', 'A_gnu2', 'A_gnu3'],    \n",
    "    'bpsfrs': ['bpsfr0', 'bpsfr1', 'bpsfr2', 'bpsfr3']\n",
    "})\n",
    "\n",
    "mcmc.MCMC_config(params, sampler_info={'minimize': {'seed':42}})\n",
    "\n",
    "sampler = mcmc.minimize_run()"
   ]
  },
  {
   "cell_type": "code",
   "execution_count": 16,
   "id": "ad8f4f95",
   "metadata": {},
   "outputs": [],
   "source": [
    "\n",
    "b_gs = [sampler.products()['minimum'][f'b_g{i}'] for i in range(4)]\n",
    "bpsfrs = [sampler.products()['minimum'][f'bpsfr{i}'] for i in range(4)]\n",
    "\n"
   ]
  },
  {
   "cell_type": "code",
   "execution_count": null,
   "id": "f3f0a125",
   "metadata": {},
   "outputs": [],
   "source": []
  }
 ],
 "metadata": {
  "kernelspec": {
   "display_name": "Cosmo1",
   "language": "python",
   "name": "python3"
  },
  "language_info": {
   "codemirror_mode": {
    "name": "ipython",
    "version": 3
   },
   "file_extension": ".py",
   "mimetype": "text/x-python",
   "name": "python",
   "nbconvert_exporter": "python",
   "pygments_lexer": "ipython3",
   "version": "3.13.5"
  }
 },
 "nbformat": 4,
 "nbformat_minor": 5
}
